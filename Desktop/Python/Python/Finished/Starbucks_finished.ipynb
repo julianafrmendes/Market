{
  "nbformat": 4,
  "nbformat_minor": 5,
  "metadata": {
    "kernelspec": {
      "display_name": "Python 3",
      "language": "python",
      "name": "python3"
    },
    "language_info": {
      "codemirror_mode": {
        "name": "ipython",
        "version": 3
      },
      "file_extension": ".py",
      "mimetype": "text/x-python",
      "name": "python",
      "nbconvert_exporter": "python",
      "pygments_lexer": "ipython3",
      "version": "3.8.8"
    },
    "colab": {
      "name": "Starbucks_finished.ipynb",
      "provenance": []
    }
  },
  "cells": [
    {
      "cell_type": "code",
      "metadata": {
        "id": "a2b24f45-119c-40a0-8b8f-df99cb327e9d"
      },
      "source": [
        "import pandas as pd\n",
        "from sklearn.model_selection import train_test_split\n",
        "from sklearn.preprocessing import LabelEncoder\n",
        "from sklearn.metrics import confusion_matrix, accuracy_score\n",
        "from sklearn.svm import SVC\n",
        "from sklearn.ensemble import ExtraTreesClassifier"
      ],
      "id": "a2b24f45-119c-40a0-8b8f-df99cb327e9d",
      "execution_count": null,
      "outputs": []
    },
    {
      "cell_type": "code",
      "metadata": {
        "id": "a08e136d-7fe7-4018-adfe-70e8e694cc1d"
      },
      "source": [
        "db =pd.read_csv('Starbucks satisfactory survey.csv', sep=',')"
      ],
      "id": "a08e136d-7fe7-4018-adfe-70e8e694cc1d",
      "execution_count": null,
      "outputs": []
    },
    {
      "cell_type": "code",
      "metadata": {
        "colab": {
          "base_uri": "https://localhost:8080/",
          "height": 309
        },
        "id": "676e4c76-36ee-4ac7-a5bd-8e8630b740de",
        "outputId": "4cf4d287-3836-48b7-d429-a53c3ddd1307"
      },
      "source": [
        "#Vamos analisar o dataframe e encontrar relações para melhor conehcermos os intrevistados e insights mais precisos.\n",
        "sex =db['1. Your Gender'].value_counts()\n",
        "sex.plot.bar(color = ['pink','blue'])"
      ],
      "id": "676e4c76-36ee-4ac7-a5bd-8e8630b740de",
      "execution_count": null,
      "outputs": [
        {
          "output_type": "execute_result",
          "data": {
            "text/plain": [
              "<matplotlib.axes._subplots.AxesSubplot at 0x7f80c41c38d0>"
            ]
          },
          "metadata": {
            "tags": []
          },
          "execution_count": 87
        },
        {
          "output_type": "display_data",
          "data": {
            "image/png": "[encoded data removed]",
            "text/plain": [
              "<Figure size 432x288 with 1 Axes>"
            ]
          },
          "metadata": {
            "tags": [],
            "needs_background": "light"
          }
        }
      ]
    },
    {
      "cell_type": "code",
      "metadata": {
        "colab": {
          "base_uri": "https://localhost:8080/"
        },
        "id": "7979e4b6-7eba-4ffe-974e-8ef4367e6c07",
        "outputId": "5325ab9b-b839-4c4f-bbf1-9f641db6f649"
      },
      "source": [
        "#Profissão dos entrevistados\n",
        "db['3. Are you currently....?'].value_counts()"
      ],
      "id": "7979e4b6-7eba-4ffe-974e-8ef4367e6c07",
      "execution_count": null,
      "outputs": [
        {
          "output_type": "execute_result",
          "data": {
            "text/plain": [
              "Employed         61\n",
              "Student          42\n",
              "Self-employed    17\n",
              "Housewife         2\n",
              "Name: 3. Are you currently....?, dtype: int64"
            ]
          },
          "metadata": {
            "tags": []
          },
          "execution_count": 88
        }
      ]
    },
    {
      "cell_type": "code",
      "metadata": {
        "id": "1fd3694b-f3e7-4c43-9a88-aa41e335154d"
      },
      "source": [
        "db.columns= ['time','sex','age','job','wage','oft','how','stay','dist','card','prod','spend','quali','price','promo','place','wifi','rate','party','media','buyer']"
      ],
      "id": "1fd3694b-f3e7-4c43-9a88-aa41e335154d",
      "execution_count": null,
      "outputs": []
    },
    {
      "cell_type": "code",
      "metadata": {
        "id": "7c0d28ea-4838-4bf2-bd69-26f4f3961f8d"
      },
      "source": [
        "db_drop = db.drop('time',axis=1, inplace= True)"
      ],
      "id": "7c0d28ea-4838-4bf2-bd69-26f4f3961f8d",
      "execution_count": null,
      "outputs": []
    },
    {
      "cell_type": "code",
      "metadata": {
        "colab": {
          "base_uri": "https://localhost:8080/",
          "height": 283
        },
        "id": "a799797c-d34d-4aac-b5a9-d1a5cab43dff",
        "outputId": "40305250-c9b5-4333-ffeb-e06597c1ebb0"
      },
      "source": [
        "#Relação sexo e idade dos clientes\n",
        "sex_age = db.groupby('sex')['age'].value_counts()\n",
        "sex_age.plot.barh(color = 'green')\n"
      ],
      "id": "a799797c-d34d-4aac-b5a9-d1a5cab43dff",
      "execution_count": null,
      "outputs": [
        {
          "output_type": "execute_result",
          "data": {
            "text/plain": [
              "<matplotlib.axes._subplots.AxesSubplot at 0x7f80c4152ad0>"
            ]
          },
          "metadata": {
            "tags": []
          },
          "execution_count": 91
        },
        {
          "output_type": "display_data",
          "data": {
            "image/png": "[encoded data removed]",
            "text/plain": [
              "<Figure size 432x288 with 1 Axes>"
            ]
          },
          "metadata": {
            "tags": [],
            "needs_background": "light"
          }
        }
      ]
    },
    {
      "cell_type": "code",
      "metadata": {
        "colab": {
          "base_uri": "https://localhost:8080/",
          "height": 283
        },
        "id": "fc7b0d43-efd7-4811-82bd-317685cc51fa",
        "outputId": "180c21c8-08ed-459a-9e1d-ca95d903a18f"
      },
      "source": [
        "# Realcionando os grupos com a frequencia que vão ao Starbucks \n",
        "age_oft = db.groupby('oft')['age'].value_counts()\n",
        "age_oft.plot.barh( color='orange')"
      ],
      "id": "fc7b0d43-efd7-4811-82bd-317685cc51fa",
      "execution_count": null,
      "outputs": [
        {
          "output_type": "execute_result",
          "data": {
            "text/plain": [
              "<matplotlib.axes._subplots.AxesSubplot at 0x7f80c40e8bd0>"
            ]
          },
          "metadata": {
            "tags": []
          },
          "execution_count": 92
        },
        {
          "output_type": "display_data",
          "data": {
            "image/png": "[encoded data removed]",
            "text/plain": [
              "<Figure size 432x288 with 1 Axes>"
            ]
          },
          "metadata": {
            "tags": [],
            "needs_background": "light"
          }
        }
      ]
    },
    {
      "cell_type": "code",
      "metadata": {
        "id": "19fd72e9-bf33-4d7d-a87c-74a4a6355802"
      },
      "source": [
        "db.loc[db['spend'] ==  'Less than RM20', 'spend'] = 16\n",
        "db.loc[db['spend'] ==  'Around RM20 - RM40', 'spend'] = 30\n",
        "db.loc[db['spend'] ==  'Zero', 'spend'] = 0\n",
        "db.loc[db['spend'] ==  'More than RM40', 'spend'] = 55"
      ],
      "id": "19fd72e9-bf33-4d7d-a87c-74a4a6355802",
      "execution_count": null,
      "outputs": []
    },
    {
      "cell_type": "code",
      "metadata": {
        "colab": {
          "base_uri": "https://localhost:8080/",
          "height": 355
        },
        "id": "0aba9f3a-e66c-4cca-b40e-3e0bfc55ee1e",
        "outputId": "7d69c8d4-4e97-4df7-ecd9-bacf440aa59b"
      },
      "source": [
        "#quanto consome cada grupo?\n",
        "age_spend = db[['age','spend']].groupby('age').sum()\n",
        "age_spend.plot.bar(color = 'purple')"
      ],
      "id": "0aba9f3a-e66c-4cca-b40e-3e0bfc55ee1e",
      "execution_count": null,
      "outputs": [
        {
          "output_type": "execute_result",
          "data": {
            "text/plain": [
              "<matplotlib.axes._subplots.AxesSubplot at 0x7f80c41c25d0>"
            ]
          },
          "metadata": {
            "tags": []
          },
          "execution_count": 94
        },
        {
          "output_type": "display_data",
          "data": {
            "image/png": "[encoded data removed]",
            "text/plain": [
              "<Figure size 432x288 with 1 Axes>"
            ]
          },
          "metadata": {
            "tags": [],
            "needs_background": "light"
          }
        }
      ]
    },
    {
      "cell_type": "code",
      "metadata": {
        "id": "7edb4837-eef6-436c-85f9-1c7450374deb"
      },
      "source": [
        "#como podemos ver qual grupo consome mais, podemos gerar insights sobre o que pensam, para podermos gerar mais cliente e aumentar o lucro\n",
        "#Existem dois grupos mais lucráveis (from 20 to 29 e from 30 to 39)\n"
      ],
      "id": "7edb4837-eef6-436c-85f9-1c7450374deb",
      "execution_count": null,
      "outputs": []
    },
    {
      "cell_type": "code",
      "metadata": {
        "colab": {
          "base_uri": "https://localhost:8080/",
          "height": 337
        },
        "id": "43353304-a6a5-4f99-92fe-51bc100bc9dd",
        "outputId": "ad40d3f1-1eff-405a-8f74-64130f84a5a9"
      },
      "source": [
        "db.head(3)"
      ],
      "id": "43353304-a6a5-4f99-92fe-51bc100bc9dd",
      "execution_count": null,
      "outputs": [
        {
          "output_type": "execute_result",
          "data": {
            "text/html": [
              "<div>\n",
              "<style scoped>\n",
              "    .dataframe tbody tr th:only-of-type {\n",
              "        vertical-align: middle;\n",
              "    }\n",
              "\n",
              "    .dataframe tbody tr th {\n",
              "        vertical-align: top;\n",
              "    }\n",
              "\n",
              "    .dataframe thead th {\n",
              "        text-align: right;\n",
              "    }\n",
              "</style>\n",
              "<table border=\"1\" class=\"dataframe\">\n",
              "  <thead>\n",
              "    <tr style=\"text-align: right;\">\n",
              "      <th></th>\n",
              "      <th>sex</th>\n",
              "      <th>age</th>\n",
              "      <th>job</th>\n",
              "      <th>wage</th>\n",
              "      <th>oft</th>\n",
              "      <th>how</th>\n",
              "      <th>stay</th>\n",
              "      <th>dist</th>\n",
              "      <th>card</th>\n",
              "      <th>prod</th>\n",
              "      <th>spend</th>\n",
              "      <th>quali</th>\n",
              "      <th>price</th>\n",
              "      <th>promo</th>\n",
              "      <th>place</th>\n",
              "      <th>wifi</th>\n",
              "      <th>rate</th>\n",
              "      <th>party</th>\n",
              "      <th>media</th>\n",
              "      <th>buyer</th>\n",
              "    </tr>\n",
              "  </thead>\n",
              "  <tbody>\n",
              "    <tr>\n",
              "      <th>0</th>\n",
              "      <td>Female</td>\n",
              "      <td>From 20 to 29</td>\n",
              "      <td>Student</td>\n",
              "      <td>Less than RM25,000</td>\n",
              "      <td>Rarely</td>\n",
              "      <td>Dine in</td>\n",
              "      <td>Between 30 minutes to 1 hour</td>\n",
              "      <td>within 1km</td>\n",
              "      <td>Yes</td>\n",
              "      <td>Coffee</td>\n",
              "      <td>16</td>\n",
              "      <td>4</td>\n",
              "      <td>3</td>\n",
              "      <td>5</td>\n",
              "      <td>5</td>\n",
              "      <td>4</td>\n",
              "      <td>4</td>\n",
              "      <td>3</td>\n",
              "      <td>Starbucks Website/Apps;Social Media;Emails;Dea...</td>\n",
              "      <td>Yes</td>\n",
              "    </tr>\n",
              "    <tr>\n",
              "      <th>1</th>\n",
              "      <td>Female</td>\n",
              "      <td>From 20 to 29</td>\n",
              "      <td>Student</td>\n",
              "      <td>Less than RM25,000</td>\n",
              "      <td>Rarely</td>\n",
              "      <td>Take away</td>\n",
              "      <td>Below 30 minutes</td>\n",
              "      <td>1km - 3km</td>\n",
              "      <td>Yes</td>\n",
              "      <td>Cold drinks;Pastries</td>\n",
              "      <td>16</td>\n",
              "      <td>4</td>\n",
              "      <td>3</td>\n",
              "      <td>4</td>\n",
              "      <td>4</td>\n",
              "      <td>4</td>\n",
              "      <td>5</td>\n",
              "      <td>2</td>\n",
              "      <td>Social Media;In Store displays</td>\n",
              "      <td>Yes</td>\n",
              "    </tr>\n",
              "    <tr>\n",
              "      <th>2</th>\n",
              "      <td>Male</td>\n",
              "      <td>From 20 to 29</td>\n",
              "      <td>Employed</td>\n",
              "      <td>Less than RM25,000</td>\n",
              "      <td>Monthly</td>\n",
              "      <td>Dine in</td>\n",
              "      <td>Between 30 minutes to 1 hour</td>\n",
              "      <td>more than 3km</td>\n",
              "      <td>Yes</td>\n",
              "      <td>Coffee</td>\n",
              "      <td>16</td>\n",
              "      <td>4</td>\n",
              "      <td>3</td>\n",
              "      <td>4</td>\n",
              "      <td>4</td>\n",
              "      <td>4</td>\n",
              "      <td>4</td>\n",
              "      <td>3</td>\n",
              "      <td>In Store displays;Billboards</td>\n",
              "      <td>Yes</td>\n",
              "    </tr>\n",
              "  </tbody>\n",
              "</table>\n",
              "</div>"
            ],
            "text/plain": [
              "      sex  ... buyer\n",
              "0  Female  ...   Yes\n",
              "1  Female  ...   Yes\n",
              "2    Male  ...   Yes\n",
              "\n",
              "[3 rows x 20 columns]"
            ]
          },
          "metadata": {
            "tags": []
          },
          "execution_count": 96
        }
      ]
    },
    {
      "cell_type": "code",
      "metadata": {
        "colab": {
          "base_uri": "https://localhost:8080/",
          "height": 229
        },
        "id": "0fd353be-5045-49b8-a7c6-2395e46cc952",
        "outputId": "d8486836-e649-403e-9e88-322344813967"
      },
      "source": [
        "#score geral\n",
        "db.plot.density(y='rate',xlim=[0,5],figsize=[6,3])"
      ],
      "id": "0fd353be-5045-49b8-a7c6-2395e46cc952",
      "execution_count": null,
      "outputs": [
        {
          "output_type": "execute_result",
          "data": {
            "text/plain": [
              "<matplotlib.axes._subplots.AxesSubplot at 0x7f80c3f808d0>"
            ]
          },
          "metadata": {
            "tags": []
          },
          "execution_count": 97
        },
        {
          "output_type": "display_data",
          "data": {
            "image/png": "[encoded data removed]",
            "text/plain": [
              "<Figure size 432x216 with 1 Axes>"
            ]
          },
          "metadata": {
            "tags": [],
            "needs_background": "light"
          }
        }
      ]
    },
    {
      "cell_type": "code",
      "metadata": {
        "colab": {
          "base_uri": "https://localhost:8080/"
        },
        "id": "84769c08-7d43-4fa9-ad54-5520f2fa6b08",
        "outputId": "6ffc1d36-e5da-4e21-fc7c-a8acc5740ad1"
      },
      "source": [
        "#Os clientes que possuem cartao Starbucks estão entre os que mais consomem\n",
        "age_card = db.groupby('age')['card'].value_counts()\n",
        "age_card"
      ],
      "id": "84769c08-7d43-4fa9-ad54-5520f2fa6b08",
      "execution_count": null,
      "outputs": [
        {
          "output_type": "execute_result",
          "data": {
            "text/plain": [
              "age            card\n",
              "40 and above   Yes      4\n",
              "               No       3\n",
              "Below 20       No      11\n",
              "               Yes      2\n",
              "From 20 to 29  Yes     43\n",
              "               No      42\n",
              "From 30 to 39  Yes     11\n",
              "               No       6\n",
              "Name: card, dtype: int64"
            ]
          },
          "metadata": {
            "tags": []
          },
          "execution_count": 98
        }
      ]
    },
    {
      "cell_type": "code",
      "metadata": {
        "colab": {
          "base_uri": "https://localhost:8080/"
        },
        "id": "b4ff2a98-8e3e-45f4-a26d-a28bd0bd8890",
        "outputId": "6db8d26a-b862-4481-ef3b-ac4df82f7d9f"
      },
      "source": [
        "#Quanto tempo permanecem na loja\n",
        "db['stay'].value_counts()"
      ],
      "id": "b4ff2a98-8e3e-45f4-a26d-a28bd0bd8890",
      "execution_count": null,
      "outputs": [
        {
          "output_type": "execute_result",
          "data": {
            "text/plain": [
              "Below 30 minutes                73\n",
              "Between 30 minutes to 1 hour    34\n",
              "Between 1 hour to 2 hours       12\n",
              "More than 3 hours                2\n",
              "Between 2 hours to 3 hours       1\n",
              "Name: stay, dtype: int64"
            ]
          },
          "metadata": {
            "tags": []
          },
          "execution_count": 99
        }
      ]
    },
    {
      "cell_type": "code",
      "metadata": {
        "id": "064d0c40-86ab-46d5-9ab3-7149eff1bb1a"
      },
      "source": [
        "db.loc[db['stay'] ==  'Below 30 minutes', 'stay'] = 25\n",
        "db.loc[db['stay'] ==  'Between 30 minutes to 1 hour', 'stay'] = 45\n",
        "db.loc[db['stay'] ==  'Between 1 hour to 2 hours', 'stay'] = 90\n",
        "db.loc[db['stay'] ==  'More than 3 hours', 'stay'] = 190\n",
        "db.loc[db['stay'] ==  'Between 2 hours to 3 hours', 'stay'] = 150"
      ],
      "id": "064d0c40-86ab-46d5-9ab3-7149eff1bb1a",
      "execution_count": null,
      "outputs": []
    },
    {
      "cell_type": "code",
      "metadata": {
        "id": "6c3d8808-5570-4627-8eb2-a10b12d4f12e"
      },
      "source": [
        "db['stay'] = db['stay'].astype('int64')"
      ],
      "id": "6c3d8808-5570-4627-8eb2-a10b12d4f12e",
      "execution_count": null,
      "outputs": []
    },
    {
      "cell_type": "code",
      "metadata": {
        "colab": {
          "base_uri": "https://localhost:8080/",
          "height": 229
        },
        "id": "9634e366-d17f-41c1-9370-f458ecd29e3c",
        "outputId": "3cfe275c-8349-4c5d-a690-13a071a69b9b"
      },
      "source": [
        "#Visualisação do tempo de permanencia em loja por minuto\n",
        "db.plot.density(y='stay',xlim=[25,150],figsize=[6,3])"
      ],
      "id": "9634e366-d17f-41c1-9370-f458ecd29e3c",
      "execution_count": null,
      "outputs": [
        {
          "output_type": "execute_result",
          "data": {
            "text/plain": [
              "<matplotlib.axes._subplots.AxesSubplot at 0x7f80c3ef67d0>"
            ]
          },
          "metadata": {
            "tags": []
          },
          "execution_count": 102
        },
        {
          "output_type": "display_data",
          "data": {
            "image/png": "[encoded data removed]",
            "text/plain": [
              "<Figure size 432x216 with 1 Axes>"
            ]
          },
          "metadata": {
            "tags": [],
            "needs_background": "light"
          }
        }
      ]
    },
    {
      "cell_type": "code",
      "metadata": {
        "id": "4dce5dcf-d18a-433f-b6a2-0464835d6633"
      },
      "source": [
        "db.loc[(db['card'] == 'Yes') ,'member'] = 'High'"
      ],
      "id": "4dce5dcf-d18a-433f-b6a2-0464835d6633",
      "execution_count": null,
      "outputs": []
    },
    {
      "cell_type": "code",
      "metadata": {
        "id": "1107cf9b-a116-4767-90bf-e9732225411c"
      },
      "source": [
        "db['member'].fillna('No', inplace=True)"
      ],
      "id": "1107cf9b-a116-4767-90bf-e9732225411c",
      "execution_count": null,
      "outputs": []
    },
    {
      "cell_type": "code",
      "metadata": {
        "colab": {
          "base_uri": "https://localhost:8080/",
          "height": 201
        },
        "id": "2b17ccac-88cd-493e-a2e5-86244fa65314",
        "outputId": "16a0679e-b90a-45b6-832c-8bc2b837de58"
      },
      "source": [
        "db.head(2)"
      ],
      "id": "2b17ccac-88cd-493e-a2e5-86244fa65314",
      "execution_count": null,
      "outputs": [
        {
          "output_type": "execute_result",
          "data": {
            "text/html": [
              "<div>\n",
              "<style scoped>\n",
              "    .dataframe tbody tr th:only-of-type {\n",
              "        vertical-align: middle;\n",
              "    }\n",
              "\n",
              "    .dataframe tbody tr th {\n",
              "        vertical-align: top;\n",
              "    }\n",
              "\n",
              "    .dataframe thead th {\n",
              "        text-align: right;\n",
              "    }\n",
              "</style>\n",
              "<table border=\"1\" class=\"dataframe\">\n",
              "  <thead>\n",
              "    <tr style=\"text-align: right;\">\n",
              "      <th></th>\n",
              "      <th>sex</th>\n",
              "      <th>age</th>\n",
              "      <th>job</th>\n",
              "      <th>wage</th>\n",
              "      <th>oft</th>\n",
              "      <th>how</th>\n",
              "      <th>stay</th>\n",
              "      <th>dist</th>\n",
              "      <th>card</th>\n",
              "      <th>prod</th>\n",
              "      <th>spend</th>\n",
              "      <th>quali</th>\n",
              "      <th>price</th>\n",
              "      <th>promo</th>\n",
              "      <th>place</th>\n",
              "      <th>wifi</th>\n",
              "      <th>rate</th>\n",
              "      <th>party</th>\n",
              "      <th>media</th>\n",
              "      <th>buyer</th>\n",
              "      <th>member</th>\n",
              "    </tr>\n",
              "  </thead>\n",
              "  <tbody>\n",
              "    <tr>\n",
              "      <th>0</th>\n",
              "      <td>Female</td>\n",
              "      <td>From 20 to 29</td>\n",
              "      <td>Student</td>\n",
              "      <td>Less than RM25,000</td>\n",
              "      <td>Rarely</td>\n",
              "      <td>Dine in</td>\n",
              "      <td>45</td>\n",
              "      <td>within 1km</td>\n",
              "      <td>Yes</td>\n",
              "      <td>Coffee</td>\n",
              "      <td>16</td>\n",
              "      <td>4</td>\n",
              "      <td>3</td>\n",
              "      <td>5</td>\n",
              "      <td>5</td>\n",
              "      <td>4</td>\n",
              "      <td>4</td>\n",
              "      <td>3</td>\n",
              "      <td>Starbucks Website/Apps;Social Media;Emails;Dea...</td>\n",
              "      <td>Yes</td>\n",
              "      <td>High</td>\n",
              "    </tr>\n",
              "    <tr>\n",
              "      <th>1</th>\n",
              "      <td>Female</td>\n",
              "      <td>From 20 to 29</td>\n",
              "      <td>Student</td>\n",
              "      <td>Less than RM25,000</td>\n",
              "      <td>Rarely</td>\n",
              "      <td>Take away</td>\n",
              "      <td>25</td>\n",
              "      <td>1km - 3km</td>\n",
              "      <td>Yes</td>\n",
              "      <td>Cold drinks;Pastries</td>\n",
              "      <td>16</td>\n",
              "      <td>4</td>\n",
              "      <td>3</td>\n",
              "      <td>4</td>\n",
              "      <td>4</td>\n",
              "      <td>4</td>\n",
              "      <td>5</td>\n",
              "      <td>2</td>\n",
              "      <td>Social Media;In Store displays</td>\n",
              "      <td>Yes</td>\n",
              "      <td>High</td>\n",
              "    </tr>\n",
              "  </tbody>\n",
              "</table>\n",
              "</div>"
            ],
            "text/plain": [
              "      sex            age  ... buyer member\n",
              "0  Female  From 20 to 29  ...   Yes   High\n",
              "1  Female  From 20 to 29  ...   Yes   High\n",
              "\n",
              "[2 rows x 21 columns]"
            ]
          },
          "metadata": {
            "tags": []
          },
          "execution_count": 105
        }
      ]
    },
    {
      "cell_type": "code",
      "metadata": {
        "colab": {
          "base_uri": "https://localhost:8080/"
        },
        "id": "aa968b85-d201-4a22-ab6e-9edd2632c858",
        "outputId": "22795190-ad2b-4d89-a0ee-615e42604d10"
      },
      "source": [
        "db['member'].value_counts()"
      ],
      "id": "aa968b85-d201-4a22-ab6e-9edd2632c858",
      "execution_count": null,
      "outputs": [
        {
          "output_type": "execute_result",
          "data": {
            "text/plain": [
              "No      62\n",
              "High    60\n",
              "Name: member, dtype: int64"
            ]
          },
          "metadata": {
            "tags": []
          },
          "execution_count": 106
        }
      ]
    },
    {
      "cell_type": "code",
      "metadata": {
        "id": "c4217644-f5f2-479e-aa53-147cf8306aac"
      },
      "source": [
        "db_drop = db.drop('card',axis=1, inplace= True)"
      ],
      "id": "c4217644-f5f2-479e-aa53-147cf8306aac",
      "execution_count": null,
      "outputs": []
    },
    {
      "cell_type": "code",
      "metadata": {
        "colab": {
          "base_uri": "https://localhost:8080/",
          "height": 201
        },
        "id": "3101afad-55ab-41c7-b1ec-748b8d764cf4",
        "outputId": "c4c61e0d-a676-4208-b8f7-747a86f9eccb"
      },
      "source": [
        "db.head(2)"
      ],
      "id": "3101afad-55ab-41c7-b1ec-748b8d764cf4",
      "execution_count": null,
      "outputs": [
        {
          "output_type": "execute_result",
          "data": {
            "text/html": [
              "<div>\n",
              "<style scoped>\n",
              "    .dataframe tbody tr th:only-of-type {\n",
              "        vertical-align: middle;\n",
              "    }\n",
              "\n",
              "    .dataframe tbody tr th {\n",
              "        vertical-align: top;\n",
              "    }\n",
              "\n",
              "    .dataframe thead th {\n",
              "        text-align: right;\n",
              "    }\n",
              "</style>\n",
              "<table border=\"1\" class=\"dataframe\">\n",
              "  <thead>\n",
              "    <tr style=\"text-align: right;\">\n",
              "      <th></th>\n",
              "      <th>sex</th>\n",
              "      <th>age</th>\n",
              "      <th>job</th>\n",
              "      <th>wage</th>\n",
              "      <th>oft</th>\n",
              "      <th>how</th>\n",
              "      <th>stay</th>\n",
              "      <th>dist</th>\n",
              "      <th>prod</th>\n",
              "      <th>spend</th>\n",
              "      <th>quali</th>\n",
              "      <th>price</th>\n",
              "      <th>promo</th>\n",
              "      <th>place</th>\n",
              "      <th>wifi</th>\n",
              "      <th>rate</th>\n",
              "      <th>party</th>\n",
              "      <th>media</th>\n",
              "      <th>buyer</th>\n",
              "      <th>member</th>\n",
              "    </tr>\n",
              "  </thead>\n",
              "  <tbody>\n",
              "    <tr>\n",
              "      <th>0</th>\n",
              "      <td>Female</td>\n",
              "      <td>From 20 to 29</td>\n",
              "      <td>Student</td>\n",
              "      <td>Less than RM25,000</td>\n",
              "      <td>Rarely</td>\n",
              "      <td>Dine in</td>\n",
              "      <td>45</td>\n",
              "      <td>within 1km</td>\n",
              "      <td>Coffee</td>\n",
              "      <td>16</td>\n",
              "      <td>4</td>\n",
              "      <td>3</td>\n",
              "      <td>5</td>\n",
              "      <td>5</td>\n",
              "      <td>4</td>\n",
              "      <td>4</td>\n",
              "      <td>3</td>\n",
              "      <td>Starbucks Website/Apps;Social Media;Emails;Dea...</td>\n",
              "      <td>Yes</td>\n",
              "      <td>High</td>\n",
              "    </tr>\n",
              "    <tr>\n",
              "      <th>1</th>\n",
              "      <td>Female</td>\n",
              "      <td>From 20 to 29</td>\n",
              "      <td>Student</td>\n",
              "      <td>Less than RM25,000</td>\n",
              "      <td>Rarely</td>\n",
              "      <td>Take away</td>\n",
              "      <td>25</td>\n",
              "      <td>1km - 3km</td>\n",
              "      <td>Cold drinks;Pastries</td>\n",
              "      <td>16</td>\n",
              "      <td>4</td>\n",
              "      <td>3</td>\n",
              "      <td>4</td>\n",
              "      <td>4</td>\n",
              "      <td>4</td>\n",
              "      <td>5</td>\n",
              "      <td>2</td>\n",
              "      <td>Social Media;In Store displays</td>\n",
              "      <td>Yes</td>\n",
              "      <td>High</td>\n",
              "    </tr>\n",
              "  </tbody>\n",
              "</table>\n",
              "</div>"
            ],
            "text/plain": [
              "      sex            age  ... buyer member\n",
              "0  Female  From 20 to 29  ...   Yes   High\n",
              "1  Female  From 20 to 29  ...   Yes   High\n",
              "\n",
              "[2 rows x 20 columns]"
            ]
          },
          "metadata": {
            "tags": []
          },
          "execution_count": 108
        }
      ]
    },
    {
      "cell_type": "code",
      "metadata": {
        "id": "7a744258-756b-40bf-aa60-485e7d0f22bc"
      },
      "source": [
        "db['stay'] = db['stay'].astype('int64')\n",
        "db['spend'] = db['spend'].astype('int64')\n",
        "\n"
      ],
      "id": "7a744258-756b-40bf-aa60-485e7d0f22bc",
      "execution_count": null,
      "outputs": []
    },
    {
      "cell_type": "code",
      "metadata": {
        "colab": {
          "base_uri": "https://localhost:8080/"
        },
        "id": "2011a0e7-6183-4838-9641-521d60d6b0ec",
        "outputId": "32302f9b-1986-4480-851f-1dc4b95e5e7d"
      },
      "source": [
        "print(db.dtypes)"
      ],
      "id": "2011a0e7-6183-4838-9641-521d60d6b0ec",
      "execution_count": null,
      "outputs": [
        {
          "output_type": "stream",
          "text": [
            "sex       object\n",
            "age       object\n",
            "job       object\n",
            "wage      object\n",
            "oft       object\n",
            "how       object\n",
            "stay       int64\n",
            "dist      object\n",
            "prod      object\n",
            "spend      int64\n",
            "quali      int64\n",
            "price      int64\n",
            "promo      int64\n",
            "place      int64\n",
            "wifi       int64\n",
            "rate       int64\n",
            "party      int64\n",
            "media     object\n",
            "buyer     object\n",
            "member    object\n",
            "dtype: object\n"
          ],
          "name": "stdout"
        }
      ]
    },
    {
      "cell_type": "code",
      "metadata": {
        "id": "1db1424e-9eb7-4847-93b4-efa21d077b02"
      },
      "source": [
        "#Vamos avaliar as chances de novos clientes obterem o Starbucks card\n",
        "previsores = db.iloc[:,0:19].values\n",
        "classe = db.iloc[:,19].values"
      ],
      "id": "1db1424e-9eb7-4847-93b4-efa21d077b02",
      "execution_count": null,
      "outputs": []
    },
    {
      "cell_type": "code",
      "metadata": {
        "colab": {
          "base_uri": "https://localhost:8080/",
          "height": 467
        },
        "id": "92e6344d-ffbb-40cc-9f6b-cac99ac4e23a",
        "outputId": "df173c7c-dc3c-4c4b-e97a-1558b5b57ca8"
      },
      "source": [
        "labelencoder = LabelEncoder()\n",
        "previsores[:,0] = labelencoder.fit_transform(previsores[:,0])\n",
        "previsores[:,1] = labelencoder.fit_transform(previsores[:,1])\n",
        "previsores[:,2] = labelencoder.fit_transform(previsores[:,2])\n",
        "previsores[:,3] = labelencoder.fit_transform(previsores[:,3])\n",
        "previsores[:, 4] = labelencoder.fit_transform(previsores[:, 4])\n",
        "previsores[:, 5] = labelencoder.fit_transform(previsores[:, 5])\n",
        "previsores[:, 7] = labelencoder.fit_transform(previsores[:, 7])\n",
        "previsores[:, 8] = labelencoder.fit_transform(previsores[:, 8])\n",
        "previsores[:, 17] = labelencoder.fit_transform(previsores[:, 17])\n",
        "previsores[:, 18] = labelencoder.fit_transform(previsores[:, 18])\n"
      ],
      "id": "92e6344d-ffbb-40cc-9f6b-cac99ac4e23a",
      "execution_count": null,
      "outputs": [
        {
          "output_type": "error",
          "ename": "TypeError",
          "evalue": "ignored",
          "traceback": [
            "\u001b[0;31m---------------------------------------------------------------------------\u001b[0m",
            "\u001b[0;31mTypeError\u001b[0m                                 Traceback (most recent call last)",
            "\u001b[0;32m/usr/local/lib/python3.7/dist-packages/sklearn/preprocessing/_label.py\u001b[0m in \u001b[0;36m_encode\u001b[0;34m(values, uniques, encode, check_unknown)\u001b[0m\n\u001b[1;32m    111\u001b[0m         \u001b[0;32mtry\u001b[0m\u001b[0;34m:\u001b[0m\u001b[0;34m\u001b[0m\u001b[0;34m\u001b[0m\u001b[0m\n\u001b[0;32m--> 112\u001b[0;31m             \u001b[0mres\u001b[0m \u001b[0;34m=\u001b[0m \u001b[0m_encode_python\u001b[0m\u001b[0;34m(\u001b[0m\u001b[0mvalues\u001b[0m\u001b[0;34m,\u001b[0m \u001b[0muniques\u001b[0m\u001b[0;34m,\u001b[0m \u001b[0mencode\u001b[0m\u001b[0;34m)\u001b[0m\u001b[0;34m\u001b[0m\u001b[0;34m\u001b[0m\u001b[0m\n\u001b[0m\u001b[1;32m    113\u001b[0m         \u001b[0;32mexcept\u001b[0m \u001b[0mTypeError\u001b[0m\u001b[0;34m:\u001b[0m\u001b[0;34m\u001b[0m\u001b[0;34m\u001b[0m\u001b[0m\n",
            "\u001b[0;32m/usr/local/lib/python3.7/dist-packages/sklearn/preprocessing/_label.py\u001b[0m in \u001b[0;36m_encode_python\u001b[0;34m(values, uniques, encode)\u001b[0m\n\u001b[1;32m     59\u001b[0m     \u001b[0;32mif\u001b[0m \u001b[0muniques\u001b[0m \u001b[0;32mis\u001b[0m \u001b[0;32mNone\u001b[0m\u001b[0;34m:\u001b[0m\u001b[0;34m\u001b[0m\u001b[0;34m\u001b[0m\u001b[0m\n\u001b[0;32m---> 60\u001b[0;31m         \u001b[0muniques\u001b[0m \u001b[0;34m=\u001b[0m \u001b[0msorted\u001b[0m\u001b[0;34m(\u001b[0m\u001b[0mset\u001b[0m\u001b[0;34m(\u001b[0m\u001b[0mvalues\u001b[0m\u001b[0;34m)\u001b[0m\u001b[0;34m)\u001b[0m\u001b[0;34m\u001b[0m\u001b[0;34m\u001b[0m\u001b[0m\n\u001b[0m\u001b[1;32m     61\u001b[0m         \u001b[0muniques\u001b[0m \u001b[0;34m=\u001b[0m \u001b[0mnp\u001b[0m\u001b[0;34m.\u001b[0m\u001b[0marray\u001b[0m\u001b[0;34m(\u001b[0m\u001b[0muniques\u001b[0m\u001b[0;34m,\u001b[0m \u001b[0mdtype\u001b[0m\u001b[0;34m=\u001b[0m\u001b[0mvalues\u001b[0m\u001b[0;34m.\u001b[0m\u001b[0mdtype\u001b[0m\u001b[0;34m)\u001b[0m\u001b[0;34m\u001b[0m\u001b[0;34m\u001b[0m\u001b[0m\n",
            "\u001b[0;31mTypeError\u001b[0m: '<' not supported between instances of 'str' and 'float'",
            "\nDuring handling of the above exception, another exception occurred:\n",
            "\u001b[0;31mTypeError\u001b[0m                                 Traceback (most recent call last)",
            "\u001b[0;32m<ipython-input-112-1613cc11f68f>\u001b[0m in \u001b[0;36m<module>\u001b[0;34m()\u001b[0m\n\u001b[1;32m      5\u001b[0m \u001b[0mprevisores\u001b[0m\u001b[0;34m[\u001b[0m\u001b[0;34m:\u001b[0m\u001b[0;34m,\u001b[0m\u001b[0;36m3\u001b[0m\u001b[0;34m]\u001b[0m \u001b[0;34m=\u001b[0m \u001b[0mlabelencoder\u001b[0m\u001b[0;34m.\u001b[0m\u001b[0mfit_transform\u001b[0m\u001b[0;34m(\u001b[0m\u001b[0mprevisores\u001b[0m\u001b[0;34m[\u001b[0m\u001b[0;34m:\u001b[0m\u001b[0;34m,\u001b[0m\u001b[0;36m3\u001b[0m\u001b[0;34m]\u001b[0m\u001b[0;34m)\u001b[0m\u001b[0;34m\u001b[0m\u001b[0;34m\u001b[0m\u001b[0m\n\u001b[1;32m      6\u001b[0m \u001b[0mprevisores\u001b[0m\u001b[0;34m[\u001b[0m\u001b[0;34m:\u001b[0m\u001b[0;34m,\u001b[0m \u001b[0;36m4\u001b[0m\u001b[0;34m]\u001b[0m \u001b[0;34m=\u001b[0m \u001b[0mlabelencoder\u001b[0m\u001b[0;34m.\u001b[0m\u001b[0mfit_transform\u001b[0m\u001b[0;34m(\u001b[0m\u001b[0mprevisores\u001b[0m\u001b[0;34m[\u001b[0m\u001b[0;34m:\u001b[0m\u001b[0;34m,\u001b[0m \u001b[0;36m4\u001b[0m\u001b[0;34m]\u001b[0m\u001b[0;34m)\u001b[0m\u001b[0;34m\u001b[0m\u001b[0;34m\u001b[0m\u001b[0m\n\u001b[0;32m----> 7\u001b[0;31m \u001b[0mprevisores\u001b[0m\u001b[0;34m[\u001b[0m\u001b[0;34m:\u001b[0m\u001b[0;34m,\u001b[0m \u001b[0;36m5\u001b[0m\u001b[0;34m]\u001b[0m \u001b[0;34m=\u001b[0m \u001b[0mlabelencoder\u001b[0m\u001b[0;34m.\u001b[0m\u001b[0mfit_transform\u001b[0m\u001b[0;34m(\u001b[0m\u001b[0mprevisores\u001b[0m\u001b[0;34m[\u001b[0m\u001b[0;34m:\u001b[0m\u001b[0;34m,\u001b[0m \u001b[0;36m5\u001b[0m\u001b[0;34m]\u001b[0m\u001b[0;34m)\u001b[0m\u001b[0;34m\u001b[0m\u001b[0;34m\u001b[0m\u001b[0m\n\u001b[0m\u001b[1;32m      8\u001b[0m \u001b[0mprevisores\u001b[0m\u001b[0;34m[\u001b[0m\u001b[0;34m:\u001b[0m\u001b[0;34m,\u001b[0m \u001b[0;36m7\u001b[0m\u001b[0;34m]\u001b[0m \u001b[0;34m=\u001b[0m \u001b[0mlabelencoder\u001b[0m\u001b[0;34m.\u001b[0m\u001b[0mfit_transform\u001b[0m\u001b[0;34m(\u001b[0m\u001b[0mprevisores\u001b[0m\u001b[0;34m[\u001b[0m\u001b[0;34m:\u001b[0m\u001b[0;34m,\u001b[0m \u001b[0;36m7\u001b[0m\u001b[0;34m]\u001b[0m\u001b[0;34m)\u001b[0m\u001b[0;34m\u001b[0m\u001b[0;34m\u001b[0m\u001b[0m\n\u001b[1;32m      9\u001b[0m \u001b[0mprevisores\u001b[0m\u001b[0;34m[\u001b[0m\u001b[0;34m:\u001b[0m\u001b[0;34m,\u001b[0m \u001b[0;36m8\u001b[0m\u001b[0;34m]\u001b[0m \u001b[0;34m=\u001b[0m \u001b[0mlabelencoder\u001b[0m\u001b[0;34m.\u001b[0m\u001b[0mfit_transform\u001b[0m\u001b[0;34m(\u001b[0m\u001b[0mprevisores\u001b[0m\u001b[0;34m[\u001b[0m\u001b[0;34m:\u001b[0m\u001b[0;34m,\u001b[0m \u001b[0;36m8\u001b[0m\u001b[0;34m]\u001b[0m\u001b[0;34m)\u001b[0m\u001b[0;34m\u001b[0m\u001b[0;34m\u001b[0m\u001b[0m\n",
            "\u001b[0;32m/usr/local/lib/python3.7/dist-packages/sklearn/preprocessing/_label.py\u001b[0m in \u001b[0;36mfit_transform\u001b[0;34m(self, y)\u001b[0m\n\u001b[1;32m    250\u001b[0m         \"\"\"\n\u001b[1;32m    251\u001b[0m         \u001b[0my\u001b[0m \u001b[0;34m=\u001b[0m \u001b[0mcolumn_or_1d\u001b[0m\u001b[0;34m(\u001b[0m\u001b[0my\u001b[0m\u001b[0;34m,\u001b[0m \u001b[0mwarn\u001b[0m\u001b[0;34m=\u001b[0m\u001b[0;32mTrue\u001b[0m\u001b[0;34m)\u001b[0m\u001b[0;34m\u001b[0m\u001b[0;34m\u001b[0m\u001b[0m\n\u001b[0;32m--> 252\u001b[0;31m         \u001b[0mself\u001b[0m\u001b[0;34m.\u001b[0m\u001b[0mclasses_\u001b[0m\u001b[0;34m,\u001b[0m \u001b[0my\u001b[0m \u001b[0;34m=\u001b[0m \u001b[0m_encode\u001b[0m\u001b[0;34m(\u001b[0m\u001b[0my\u001b[0m\u001b[0;34m,\u001b[0m \u001b[0mencode\u001b[0m\u001b[0;34m=\u001b[0m\u001b[0;32mTrue\u001b[0m\u001b[0;34m)\u001b[0m\u001b[0;34m\u001b[0m\u001b[0;34m\u001b[0m\u001b[0m\n\u001b[0m\u001b[1;32m    253\u001b[0m         \u001b[0;32mreturn\u001b[0m \u001b[0my\u001b[0m\u001b[0;34m\u001b[0m\u001b[0;34m\u001b[0m\u001b[0m\n\u001b[1;32m    254\u001b[0m \u001b[0;34m\u001b[0m\u001b[0m\n",
            "\u001b[0;32m/usr/local/lib/python3.7/dist-packages/sklearn/preprocessing/_label.py\u001b[0m in \u001b[0;36m_encode\u001b[0;34m(values, uniques, encode, check_unknown)\u001b[0m\n\u001b[1;32m    112\u001b[0m             \u001b[0mres\u001b[0m \u001b[0;34m=\u001b[0m \u001b[0m_encode_python\u001b[0m\u001b[0;34m(\u001b[0m\u001b[0mvalues\u001b[0m\u001b[0;34m,\u001b[0m \u001b[0muniques\u001b[0m\u001b[0;34m,\u001b[0m \u001b[0mencode\u001b[0m\u001b[0;34m)\u001b[0m\u001b[0;34m\u001b[0m\u001b[0;34m\u001b[0m\u001b[0m\n\u001b[1;32m    113\u001b[0m         \u001b[0;32mexcept\u001b[0m \u001b[0mTypeError\u001b[0m\u001b[0;34m:\u001b[0m\u001b[0;34m\u001b[0m\u001b[0;34m\u001b[0m\u001b[0m\n\u001b[0;32m--> 114\u001b[0;31m             \u001b[0;32mraise\u001b[0m \u001b[0mTypeError\u001b[0m\u001b[0;34m(\u001b[0m\u001b[0;34m\"argument must be a string or number\"\u001b[0m\u001b[0;34m)\u001b[0m\u001b[0;34m\u001b[0m\u001b[0;34m\u001b[0m\u001b[0m\n\u001b[0m\u001b[1;32m    115\u001b[0m         \u001b[0;32mreturn\u001b[0m \u001b[0mres\u001b[0m\u001b[0;34m\u001b[0m\u001b[0;34m\u001b[0m\u001b[0m\n\u001b[1;32m    116\u001b[0m     \u001b[0;32melse\u001b[0m\u001b[0;34m:\u001b[0m\u001b[0;34m\u001b[0m\u001b[0;34m\u001b[0m\u001b[0m\n",
            "\u001b[0;31mTypeError\u001b[0m: argument must be a string or number"
          ]
        }
      ]
    },
    {
      "cell_type": "code",
      "metadata": {
        "id": "5ad279cc-8b6b-4962-aa68-918649328ed5"
      },
      "source": [
        "X_treinamento, X_teste, y_treinamento, y_teste = train_test_split(previsores,\n",
        "                                                                  classe,\n",
        "                                                                  test_size = 0.3,\n",
        "                                                                  random_state = 1)"
      ],
      "id": "5ad279cc-8b6b-4962-aa68-918649328ed5",
      "execution_count": null,
      "outputs": []
    },
    {
      "cell_type": "code",
      "metadata": {
        "id": "cbfe0702-2c3c-4aa2-b157-dff3ff678dd0"
      },
      "source": [
        "svm = SVC()\n",
        "svm.fit(X_treinamento, y_treinamento)"
      ],
      "id": "cbfe0702-2c3c-4aa2-b157-dff3ff678dd0",
      "execution_count": null,
      "outputs": []
    },
    {
      "cell_type": "code",
      "metadata": {
        "id": "4fd4e06f-9ccb-47ac-b60b-101187de8973"
      },
      "source": [
        "#o modelo encontrou 13 possiveis clientes que se interessariam pelo cartao\n",
        "previsoes = svm.predict(X_teste)\n",
        "previsoes"
      ],
      "id": "4fd4e06f-9ccb-47ac-b60b-101187de8973",
      "execution_count": null,
      "outputs": []
    },
    {
      "cell_type": "code",
      "metadata": {
        "id": "d6330d24-0f6b-40cd-abf2-530c2cbc6185"
      },
      "source": [
        "taxa_acerto = accuracy_score(y_teste, previsoes)\n",
        "taxa_acerto"
      ],
      "id": "d6330d24-0f6b-40cd-abf2-530c2cbc6185",
      "execution_count": null,
      "outputs": []
    },
    {
      "cell_type": "code",
      "metadata": {
        "id": "8e39e0de-5afb-4286-ac62-baa2467ac934"
      },
      "source": [
        "forest = ExtraTreesClassifier()\n",
        "forest.fit(X_treinamento, y_treinamento)\n",
        "importancias = forest.feature_importances_\n",
        "importancias"
      ],
      "id": "8e39e0de-5afb-4286-ac62-baa2467ac934",
      "execution_count": null,
      "outputs": []
    },
    {
      "cell_type": "code",
      "metadata": {
        "id": "29a8456a-f97c-444f-b56e-2a70c7d410c6"
      },
      "source": [
        "#8 10 11 12 17 18\n",
        "X_treinamento2 = X_treinamento[:,[3,7,9,10,13,17,18]]\n",
        "X_teste2 = X_teste[:,[3,7,9,10,13,17,18]]"
      ],
      "id": "29a8456a-f97c-444f-b56e-2a70c7d410c6",
      "execution_count": null,
      "outputs": []
    },
    {
      "cell_type": "code",
      "metadata": {
        "id": "40a9142d-9a94-48e3-bd78-c6f1f5dbe841"
      },
      "source": [
        "svm2 = SVC()\n",
        "svm2.fit(X_treinamento2, y_treinamento)\n",
        "previsoes2 = svm2.predict(X_teste2)\n",
        "taxa_acerto = accuracy_score(y_teste, previsoes2)\n",
        "taxa_acerto"
      ],
      "id": "40a9142d-9a94-48e3-bd78-c6f1f5dbe841",
      "execution_count": null,
      "outputs": []
    },
    {
      "cell_type": "code",
      "metadata": {
        "tags": [],
        "id": "613c1567-7c28-4af9-bdb1-c3dbc14ea7f8"
      },
      "source": [
        "db.head(2)"
      ],
      "id": "613c1567-7c28-4af9-bdb1-c3dbc14ea7f8",
      "execution_count": null,
      "outputs": []
    },
    {
      "cell_type": "code",
      "metadata": {
        "id": "291cd214-0622-4d5b-926b-c2e061adb687"
      },
      "source": [
        "#Minha sugestao\n",
        "X_treinamento3 = X_treinamento[:,[1,2,3,9,11,12,14,18]]\n",
        "X_teste3 = X_teste[:,[1,2,3,9,11,12,14,18]]"
      ],
      "id": "291cd214-0622-4d5b-926b-c2e061adb687",
      "execution_count": null,
      "outputs": []
    },
    {
      "cell_type": "code",
      "metadata": {
        "id": "cbb1f606-27fa-4b35-8a94-cf37f3205888"
      },
      "source": [
        "svm3 = SVC()\n",
        "svm3.fit(X_treinamento3, y_treinamento)\n",
        "previsoes3 = svm3.predict(X_teste3)\n",
        "taxa_acerto = accuracy_score(y_teste, previsoes3)\n",
        "taxa_acerto"
      ],
      "id": "cbb1f606-27fa-4b35-8a94-cf37f3205888",
      "execution_count": null,
      "outputs": []
    },
    {
      "cell_type": "code",
      "metadata": {
        "id": "5f530e74-42b2-43b3-bf45-2450e1091564"
      },
      "source": [
        "O modelo foi capaz de concluir com uma taxa de acerto de 0.59\n",
        "com aproximadamente 13 possiveis clientes de 37 amostras"
      ],
      "id": "5f530e74-42b2-43b3-bf45-2450e1091564",
      "execution_count": null,
      "outputs": []
    },
    {
      "cell_type": "code",
      "metadata": {
        "id": "a3087ffc-a650-408c-9791-8800c42ab288"
      },
      "source": [
        "##concluir##"
      ],
      "id": "a3087ffc-a650-408c-9791-8800c42ab288",
      "execution_count": null,
      "outputs": []
    },
    {
      "cell_type": "markdown",
      "metadata": {
        "id": "AGtE2XKfPqJC"
      },
      "source": [
        ""
      ],
      "id": "AGtE2XKfPqJC"
    },
    {
      "cell_type": "markdown",
      "metadata": {
        "id": "OyK7RJwqPqZH"
      },
      "source": [
        ""
      ],
      "id": "OyK7RJwqPqZH"
    },
    {
      "cell_type": "code",
      "metadata": {
        "id": "XKALVdJg3sC7"
      },
      "source": [
        ""
      ],
      "id": "XKALVdJg3sC7",
      "execution_count": null,
      "outputs": []
    }
  ]
}